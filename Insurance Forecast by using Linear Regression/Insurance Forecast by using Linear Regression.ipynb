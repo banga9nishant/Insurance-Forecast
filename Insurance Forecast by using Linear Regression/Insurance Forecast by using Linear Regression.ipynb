{
 "cells": [
  {
   "cell_type": "code",
   "execution_count": 3,
   "metadata": {
    "collapsed": true
   },
   "outputs": [],
   "source": [
    "import numpy as np\n",
    "import pandas as pd\n",
    "import seaborn as sns\n",
    "import matplotlib.pyplot as plt\n",
    "% matplotlib inline"
   ]
  },
  {
   "cell_type": "code",
   "execution_count": 5,
   "metadata": {
    "collapsed": true
   },
   "outputs": [],
   "source": [
    "df=pd.read_csv('insurance.csv')"
   ]
  },
  {
   "cell_type": "code",
   "execution_count": 6,
   "metadata": {},
   "outputs": [
    {
     "data": {
      "text/html": [
       "<div>\n",
       "<style>\n",
       "    .dataframe thead tr:only-child th {\n",
       "        text-align: right;\n",
       "    }\n",
       "\n",
       "    .dataframe thead th {\n",
       "        text-align: left;\n",
       "    }\n",
       "\n",
       "    .dataframe tbody tr th {\n",
       "        vertical-align: top;\n",
       "    }\n",
       "</style>\n",
       "<table border=\"1\" class=\"dataframe\">\n",
       "  <thead>\n",
       "    <tr style=\"text-align: right;\">\n",
       "      <th></th>\n",
       "      <th>age</th>\n",
       "      <th>sex</th>\n",
       "      <th>bmi</th>\n",
       "      <th>children</th>\n",
       "      <th>smoker</th>\n",
       "      <th>region</th>\n",
       "      <th>charges</th>\n",
       "    </tr>\n",
       "  </thead>\n",
       "  <tbody>\n",
       "    <tr>\n",
       "      <th>0</th>\n",
       "      <td>19</td>\n",
       "      <td>female</td>\n",
       "      <td>27.900</td>\n",
       "      <td>0</td>\n",
       "      <td>yes</td>\n",
       "      <td>southwest</td>\n",
       "      <td>16884.92400</td>\n",
       "    </tr>\n",
       "    <tr>\n",
       "      <th>1</th>\n",
       "      <td>18</td>\n",
       "      <td>male</td>\n",
       "      <td>33.770</td>\n",
       "      <td>1</td>\n",
       "      <td>no</td>\n",
       "      <td>southeast</td>\n",
       "      <td>1725.55230</td>\n",
       "    </tr>\n",
       "    <tr>\n",
       "      <th>2</th>\n",
       "      <td>28</td>\n",
       "      <td>male</td>\n",
       "      <td>33.000</td>\n",
       "      <td>3</td>\n",
       "      <td>no</td>\n",
       "      <td>southeast</td>\n",
       "      <td>4449.46200</td>\n",
       "    </tr>\n",
       "    <tr>\n",
       "      <th>3</th>\n",
       "      <td>33</td>\n",
       "      <td>male</td>\n",
       "      <td>22.705</td>\n",
       "      <td>0</td>\n",
       "      <td>no</td>\n",
       "      <td>northwest</td>\n",
       "      <td>21984.47061</td>\n",
       "    </tr>\n",
       "    <tr>\n",
       "      <th>4</th>\n",
       "      <td>32</td>\n",
       "      <td>male</td>\n",
       "      <td>28.880</td>\n",
       "      <td>0</td>\n",
       "      <td>no</td>\n",
       "      <td>northwest</td>\n",
       "      <td>3866.85520</td>\n",
       "    </tr>\n",
       "  </tbody>\n",
       "</table>\n",
       "</div>"
      ],
      "text/plain": [
       "   age     sex     bmi  children smoker     region      charges\n",
       "0   19  female  27.900         0    yes  southwest  16884.92400\n",
       "1   18    male  33.770         1     no  southeast   1725.55230\n",
       "2   28    male  33.000         3     no  southeast   4449.46200\n",
       "3   33    male  22.705         0     no  northwest  21984.47061\n",
       "4   32    male  28.880         0     no  northwest   3866.85520"
      ]
     },
     "execution_count": 6,
     "metadata": {},
     "output_type": "execute_result"
    }
   ],
   "source": [
    "df.head()"
   ]
  },
  {
   "cell_type": "code",
   "execution_count": 8,
   "metadata": {},
   "outputs": [
    {
     "data": {
      "text/plain": [
       "Index(['age', 'sex', 'bmi', 'children', 'smoker', 'region', 'charges'], dtype='object')"
      ]
     },
     "execution_count": 8,
     "metadata": {},
     "output_type": "execute_result"
    }
   ],
   "source": [
    "df.columns"
   ]
  },
  {
   "cell_type": "code",
   "execution_count": 22,
   "metadata": {
    "collapsed": true
   },
   "outputs": [],
   "source": [
    "X=df[['age', 'bmi', 'children']]"
   ]
  },
  {
   "cell_type": "code",
   "execution_count": 11,
   "metadata": {
    "collapsed": true
   },
   "outputs": [],
   "source": [
    "y=df['charges']"
   ]
  },
  {
   "cell_type": "code",
   "execution_count": 23,
   "metadata": {},
   "outputs": [],
   "source": [
    "from sklearn.model_selection import train_test_split\n",
    "X_train,X_test,y_train,y_test=train_test_split(X,y,test_size=0.4, random_state=101)"
   ]
  },
  {
   "cell_type": "code",
   "execution_count": 28,
   "metadata": {},
   "outputs": [
    {
     "data": {
      "text/plain": [
       "LinearRegression(copy_X=True, fit_intercept=True, n_jobs=1, normalize=False)"
      ]
     },
     "execution_count": 28,
     "metadata": {},
     "output_type": "execute_result"
    }
   ],
   "source": [
    "from sklearn.linear_model import LinearRegression\n",
    "lm=LinearRegression()\n",
    "lm.fit(X_train,y_train)"
   ]
  },
  {
   "cell_type": "code",
   "execution_count": 31,
   "metadata": {},
   "outputs": [
    {
     "data": {
      "text/plain": [
       "-6111.265650277041"
      ]
     },
     "execution_count": 31,
     "metadata": {},
     "output_type": "execute_result"
    }
   ],
   "source": [
    "lm.intercept_"
   ]
  },
  {
   "cell_type": "code",
   "execution_count": 33,
   "metadata": {},
   "outputs": [
    {
     "data": {
      "text/plain": [
       "array([206.10087148, 364.39416115, 614.7495574 ])"
      ]
     },
     "execution_count": 33,
     "metadata": {},
     "output_type": "execute_result"
    }
   ],
   "source": [
    "lm.coef_"
   ]
  },
  {
   "cell_type": "code",
   "execution_count": 36,
   "metadata": {},
   "outputs": [],
   "source": [
    "cdf=pd.DataFrame(lm.coef_,X.columns,columns=['Coef'])"
   ]
  },
  {
   "cell_type": "code",
   "execution_count": 38,
   "metadata": {},
   "outputs": [
    {
     "data": {
      "text/html": [
       "<div>\n",
       "<style>\n",
       "    .dataframe thead tr:only-child th {\n",
       "        text-align: right;\n",
       "    }\n",
       "\n",
       "    .dataframe thead th {\n",
       "        text-align: left;\n",
       "    }\n",
       "\n",
       "    .dataframe tbody tr th {\n",
       "        vertical-align: top;\n",
       "    }\n",
       "</style>\n",
       "<table border=\"1\" class=\"dataframe\">\n",
       "  <thead>\n",
       "    <tr style=\"text-align: right;\">\n",
       "      <th></th>\n",
       "      <th>Coef</th>\n",
       "    </tr>\n",
       "  </thead>\n",
       "  <tbody>\n",
       "    <tr>\n",
       "      <th>age</th>\n",
       "      <td>206.100871</td>\n",
       "    </tr>\n",
       "    <tr>\n",
       "      <th>bmi</th>\n",
       "      <td>364.394161</td>\n",
       "    </tr>\n",
       "    <tr>\n",
       "      <th>children</th>\n",
       "      <td>614.749557</td>\n",
       "    </tr>\n",
       "  </tbody>\n",
       "</table>\n",
       "</div>"
      ],
      "text/plain": [
       "                Coef\n",
       "age       206.100871\n",
       "bmi       364.394161\n",
       "children  614.749557"
      ]
     },
     "execution_count": 38,
     "metadata": {},
     "output_type": "execute_result"
    }
   ],
   "source": [
    "cdf"
   ]
  },
  {
   "cell_type": "code",
   "execution_count": 41,
   "metadata": {},
   "outputs": [
    {
     "data": {
      "text/plain": [
       "array([15836.12069402,  8499.83770809, 14910.40630986,  9869.74158361,\n",
       "       11632.28469557,  5975.97180125, 19374.7984107 , 10549.14707808,\n",
       "       15818.47888982, 13419.93283387, 13173.78500593, 15975.07749454,\n",
       "       12577.12787075, 16674.63767655, 12427.91850613, 18713.60477736,\n",
       "       15569.05065859,  9740.28292489, 20115.46784695, 18816.18449201,\n",
       "       11314.41121777, 12972.12415036, 18121.88632917, 10881.01461359,\n",
       "        6010.58924656,  7971.248004  , 16012.09481452, 10071.03105394,\n",
       "       20179.93154257, 10793.93140015, 11457.34694388, 12973.29160989,\n",
       "        8951.4682975 ,  8305.21016405, 12269.05896439, 11281.05211657,\n",
       "        6674.44113113, 18685.5985799 , 18745.57824861, 15016.20790245,\n",
       "       15604.79535729, 15060.53903462, 20429.2610423 , 14920.02911215,\n",
       "       11319.22261891, 12606.77807473, 13150.98634432,  8581.3900535 ,\n",
       "       17272.41159283,  7591.76512814,  5172.06061222,  9022.3069885 ,\n",
       "       12795.85525202, 14946.65348453, 10016.24464392, 18229.21511472,\n",
       "       12547.80884587, 16895.80513863, 16350.9930362 , 11300.07170379,\n",
       "        5732.0458837 , 16399.30571932, 18243.97265032, 18763.2200528 ,\n",
       "       15116.85263761, 20556.60295238, 18412.00175097, 11507.47516758,\n",
       "       22275.59410392, 15924.2804824 , 11026.47487485, 12400.81876627,\n",
       "        8946.65689636, 10156.00917054, 11531.75296908, 15875.95995235,\n",
       "       19414.20513306, 20334.11862082, 11092.83977405,  8686.00206245,\n",
       "       18994.48305929, 21603.45436858, 16762.90000132, 14139.83994487,\n",
       "        7077.11095638, 11607.38878406, 18932.85938406,  3414.28084833,\n",
       "        8601.98751213, 18333.06745065, 19232.43011616, 13674.14653727,\n",
       "       13528.81474137, 14477.50837677, 16885.54994917, 10144.64100486,\n",
       "       12763.43378812, 18418.90777665, 14168.31221702,  9107.86300896,\n",
       "       17993.94058625,  9625.39360238, 11701.27286143, 16817.36688404,\n",
       "       11506.07788581, 19424.86430416, 16245.48884681, 15859.82059166,\n",
       "        6772.17304337, 15125.16641735, 10909.89729762, 16264.60716554,\n",
       "        8753.37477613,  9725.21633429, 16348.96717214,  8235.35716342,\n",
       "        7702.03266559, 10855.49274514, 10764.77986726, 17320.79707849,\n",
       "       18031.35522045,  8641.5150901 , 12749.12424517, 19123.33003824,\n",
       "        8188.28070031, 17114.10402598, 10343.17349245, 16996.73037446,\n",
       "        9978.76505412, 16781.35215697, 11344.83537194, 15049.22154737,\n",
       "       14850.88510611, 13450.37911214, 13175.78874589, 12252.19111038,\n",
       "       16825.71969041,  9461.10717486,  9230.01166036, 18393.24697055,\n",
       "       14163.60217275, 10082.39921963, 17684.95879205, 20062.93974859,\n",
       "       15341.90433583,  9448.05860138, 18851.4564486 , 18743.30565978,\n",
       "       19659.68036768, 14989.40556579, 10604.42050738, 15285.12846302,\n",
       "       15738.01739653, 18668.7216703 , 22294.10858981, 17055.42957495,\n",
       "       12580.8224908 ,  8183.12384289, 11588.08465411, 13533.13531835,\n",
       "       10719.15398971, 12589.72582621, 15243.49578822,  8203.2928076 ,\n",
       "       23719.76244162, 13992.32644471, 20704.56825006,  9578.0366386 ,\n",
       "       14705.21832623, 18673.73959006,  7338.80596397, 16134.84729875,\n",
       "       19216.14538759, 14835.93532906, 14668.42964897, 14085.13014226,\n",
       "       11271.77477055, 13142.37516139, 10910.22847672, 17189.08795505,\n",
       "       15554.42040883, 12789.92706978, 19311.28780907, 19689.56301925,\n",
       "        7187.58238709, 15132.19972888, 18050.95675359, 12364.02224208,\n",
       "       11523.6430826 , 19008.68744049, 20816.41365892, 17031.82056189,\n",
       "        8685.08917461,  9978.03393544, 11395.38565932, 10751.5754536 ,\n",
       "       10503.43031594, 14683.4170068 ,  8768.19464197, 17771.4900306 ,\n",
       "       12841.37859319, 18185.54229869, 10728.5443444 , 17976.47412098,\n",
       "       17384.84655736, 14556.87901794, 16026.18356168,  7536.86570944,\n",
       "       10807.22669839,  7662.60381914, 10997.17012714, 20523.49057594,\n",
       "       15268.51636021,  8186.92362469, 11400.42950805, 16299.36617387,\n",
       "       12681.77628096, 14465.02342999,  6043.60289149, 16284.79040742,\n",
       "       15175.18163237, 14246.92581053, 16002.02519909, 14516.80993738,\n",
       "       16123.96615236,  7596.57652928, 18350.36379857, 18268.72056858,\n",
       "       10650.50865476, 15782.25764413, 13572.46543329, 16459.99438261,\n",
       "       20154.88884647, 14565.14474461, 18584.56818232, 14995.6792043 ,\n",
       "       11777.84631371,  9743.80742759, 16781.0067007 , 11164.21353741,\n",
       "       11687.75154584, 17322.64497827,  9736.44293695, 14533.86218591,\n",
       "       16196.75790488, 11541.14332378,  8328.35428193, 15080.63139192,\n",
       "       10046.64286912, 16771.38389841,  5491.32756691, 10977.19340388,\n",
       "       16026.52901795, 21545.63832208, 18316.61903496, 11902.32988417,\n",
       "       15369.92861533, 13890.53637412, 17167.30091279,  9192.18661429,\n",
       "        6642.17288206, 15790.62210231, 11678.62741464,  7983.78362921,\n",
       "        6710.97143183,  5578.79644276, 17904.0316296 , 16748.68396831,\n",
       "        8289.1436059 , 11547.5585253 , 21122.45407585, 12731.91878183,\n",
       "       19222.11640133, 16026.38745494, 15856.64939217, 13234.3099821 ,\n",
       "       20182.45870309, 16533.03690196,  8683.13991796, 20936.6637321 ,\n",
       "       15957.38501191, 12956.11207552, 15045.41391865, 17476.90866392,\n",
       "       21776.69743531, 17408.64899139, 14956.25035784, 18234.3212937 ,\n",
       "       13013.2334046 ,  9383.47142479, 13426.65328552, 20713.30671884,\n",
       "        7560.97339359, 18983.69279747, 19214.1233284 , 20982.84538942,\n",
       "       20712.96126257,  6282.71740789, 11179.89443314, 13853.72557276,\n",
       "       13442.01465396, 14782.72679045,  7361.97863618, 13538.2557745 ,\n",
       "       12831.76744271, 13888.26641066, 13684.29656499, 11712.98648338,\n",
       "       12659.47629045, 16401.85500394, 10145.07734571, 17506.42373513,\n",
       "       11845.018939  , 12990.55940348, 20089.12778012,  9561.63890135,\n",
       "       13610.10871021, 17054.85167109, 16338.30419616, 12914.06518397,\n",
       "       12699.55964817, 12881.22950332, 15960.15627182, 20769.51896496,\n",
       "       11038.7299994 ,  8572.28019948, 14312.56743798, 10881.7314551 ,\n",
       "       13174.87585806, 16169.46474406, 15555.28261823, 19697.48328965,\n",
       "       16105.04125459, 13851.6997087 , 14504.96522471, 16094.16010819,\n",
       "       12878.85818299, 13191.67353489, 12492.90942717, 15706.60755199,\n",
       "        8186.67689993, 14695.94098021, 16019.28134087, 13412.95020078,\n",
       "       11025.88531918, 21829.86576778, 13092.97805637, 19581.46671375,\n",
       "       10165.47875801, 12735.57700061, 18668.92818892, 14018.37173372,\n",
       "       17415.60189063, 12465.4240249 , 12375.28905089,  6826.75556014,\n",
       "       15025.31775647, 11830.32373364, 14685.97272165, 15776.84241015,\n",
       "        6252.91136373, 15919.46908126, 14649.55542964, 18581.45931307,\n",
       "       19522.79226272, 13467.00929698, 11163.77719656, 13631.53601903,\n",
       "       10580.09202744,  8569.07259871, 15782.62902938, 10295.38018781,\n",
       "       14171.07182513, 16427.50415824, 15496.45232702, 12816.52288782,\n",
       "       12373.41259677, 16100.96097213, 15844.49158243, 20538.27023564,\n",
       "       19179.68384737, 19589.98701211,  5456.7101216 ,  7454.89914728,\n",
       "       17885.55734984, 13903.60185012, 10535.75304833, 15758.17588895,\n",
       "        5686.20183572, 15634.29234645, 10032.87482877, 11411.79767374,\n",
       "       14892.17232464, 13765.76183069, 13220.88739802, 12831.03632402,\n",
       "        8644.2097426 ,  8945.05309598, 13294.26752671, 19207.80948374,\n",
       "        7347.83921059,  7070.46330726, 19820.92668642, 16881.72804327,\n",
       "       19408.19771804, 14703.36780108, 16856.27113043, 20610.74912829,\n",
       "        7350.70135508, 19528.06212881, 16432.40644396, 15603.57721932,\n",
       "       13030.84927982, 13727.15118263,  9080.31527645, 10885.48055846,\n",
       "       19856.83887711, 12388.99213563,  8832.09090602, 14892.48137964,\n",
       "       15320.19390098, 12948.11900258, 12252.53656665, 11358.21512452,\n",
       "       10720.41233382, 13709.89504085, 14715.18658478, 17276.28798203,\n",
       "       20123.62841188, 11105.10274553, 16140.74955202, 16094.59644904,\n",
       "       16030.64950655, 10923.2770502 , 15083.95580623, 13304.23578527,\n",
       "        9511.904187  , 13575.55622051, 13548.72913438, 10035.75909736,\n",
       "       21963.61503245, 15456.61188918,  9680.03844939,  8335.64216515,\n",
       "       10890.12446762, 14701.89128655,  7434.61717389,  4174.26084476,\n",
       "        9500.53602131, 16436.78150425, 17391.63576949, 20314.5132828 ,\n",
       "       16352.82928417, 11507.47516758, 12977.89911778, 10046.83248521,\n",
       "       18027.92564439, 13710.02232669, 10430.05018726,  8117.00566846,\n",
       "       10985.87856887, 16405.71711598, 16214.05044793, 17745.8292245 ,\n",
       "       18100.69146794, 10532.38960738, 10449.88797287,  6742.61372397,\n",
       "       17233.32820265, 11026.81248419, 15380.61634077, 15193.37541145,\n",
       "       10704.20421265, 21654.61111415, 12236.25183808, 14604.0827669 ,\n",
       "       13445.91316727, 17685.87167989, 12108.72553348,  9370.67742301,\n",
       "       14575.80391571, 14366.1499872 , 14564.29418701, 10622.06231158,\n",
       "       15282.5363469 , 11727.52584856, 16736.80285437, 20186.44810097,\n",
       "       11581.03706542, 16418.10333124, 10773.17287978, 14767.79129056,\n",
       "       12347.17388681, 18486.60382249, 14653.6252398 , 16694.47546215,\n",
       "       17129.47586672, 12795.85525202, 15419.54389077, 11906.39851483,\n",
       "       17150.32527167, 18034.02394398, 13673.50630317, 10493.72828088,\n",
       "        9481.29041674, 14787.62907617, 20995.40313873, 13444.30936689,\n",
       "       12095.83280019, 12700.04666746,  9724.87087801, 19901.09340188,\n",
       "       11606.03170844, 17367.89947058,  9716.63370568,  8882.23340688,\n",
       "       13676.31776922, 17239.74340417, 15927.48808317, 17469.90128137,\n",
       "       13627.01939572, 14633.12129112, 11132.36735201,  9303.46839645,\n",
       "        8768.19464197, 19090.44367916,  6056.1385167 , 15670.73176257,\n",
       "       16262.43593359, 16394.49051331, 11260.82082162,  9350.8396374 ,\n",
       "       17882.46275776, 15949.15164445, 15028.82013507, 11495.3642314 ])"
      ]
     },
     "execution_count": 41,
     "metadata": {},
     "output_type": "execute_result"
    }
   ],
   "source": [
    "predictions=lm.predict(X_test)\n",
    "predictions"
   ]
  },
  {
   "cell_type": "code",
   "execution_count": 43,
   "metadata": {},
   "outputs": [
    {
     "data": {
      "text/plain": [
       "44       6079.67150\n",
       "134      2457.21115\n",
       "980     25517.11363\n",
       "618     34439.85590\n",
       "1238     6985.50695\n",
       "295      1704.56810\n",
       "20      13228.84695\n",
       "1297     4340.44090\n",
       "365      9778.34720\n",
       "670      4837.58230\n",
       "1210     5373.36425\n",
       "284      9625.92000\n",
       "1083     4076.49700\n",
       "115     30259.99556\n",
       "793     21195.81800\n",
       "252     44260.74990\n",
       "986      8410.04685\n",
       "869      4391.65200\n",
       "18      10602.38500\n",
       "45      20630.28351\n",
       "1040    20234.85475\n",
       "688     26236.57997\n",
       "782      9386.16130\n",
       "1191    13725.47184\n",
       "1041     1704.70015\n",
       "0       16884.92400\n",
       "1125    14254.60820\n",
       "1120    34166.27300\n",
       "674     46200.98510\n",
       "1108     2904.08800\n",
       "           ...     \n",
       "635     14410.93210\n",
       "1198     6393.60345\n",
       "646      6123.56880\n",
       "98      22412.64850\n",
       "63       4133.64165\n",
       "1329    10325.20600\n",
       "1200     6198.75180\n",
       "1264    10370.91255\n",
       "583     17626.23951\n",
       "513      1256.29900\n",
       "626      6748.59120\n",
       "742     43254.41795\n",
       "601      9174.13565\n",
       "1067     5757.41345\n",
       "597      5594.84550\n",
       "545     23807.24060\n",
       "807      2136.88225\n",
       "961      3353.28400\n",
       "106      2331.51900\n",
       "945     11674.13000\n",
       "940      1121.87390\n",
       "9       28923.13692\n",
       "180     11735.87905\n",
       "1321    28101.33305\n",
       "408      6652.52880\n",
       "625      3736.46470\n",
       "1020     8798.59300\n",
       "877      6653.78860\n",
       "171      8116.68000\n",
       "204      7147.10500\n",
       "Name: charges, Length: 536, dtype: float64"
      ]
     },
     "execution_count": 43,
     "metadata": {},
     "output_type": "execute_result"
    }
   ],
   "source": [
    "y_test"
   ]
  },
  {
   "cell_type": "code",
   "execution_count": 47,
   "metadata": {},
   "outputs": [
    {
     "data": {
      "text/plain": [
       "<matplotlib.collections.PathCollection at 0x6bcc6d0>"
      ]
     },
     "execution_count": 47,
     "metadata": {},
     "output_type": "execute_result"
    },
    {
     "data": {
      "image/png": "[encoded data removed]",
      "text/plain": [
       "<Figure size 432x288 with 1 Axes>"
      ]
     },
     "metadata": {},
     "output_type": "display_data"
    }
   ],
   "source": [
    "plt.scatter(y_test,predictions)"
   ]
  },
  {
   "cell_type": "code",
   "execution_count": 49,
   "metadata": {},
   "outputs": [
    {
     "data": {
      "text/plain": [
       "0.14790679109221827"
      ]
     },
     "execution_count": 49,
     "metadata": {},
     "output_type": "execute_result"
    }
   ],
   "source": [
    "from sklearn import metrics\n",
    "metrics.explained_variance_score(y_test,predictions)"
   ]
  }
 ],
 "metadata": {
  "kernelspec": {
   "display_name": "Python 3",
   "language": "python",
   "name": "python3"
  },
  "language_info": {
   "codemirror_mode": {
    "name": "ipython",
    "version": 3
   },
   "file_extension": ".py",
   "mimetype": "text/x-python",
   "name": "python",
   "nbconvert_exporter": "python",
   "pygments_lexer": "ipython3",
   "version": "3.6.3"
  }
 },
 "nbformat": 4,
 "nbformat_minor": 2
}
